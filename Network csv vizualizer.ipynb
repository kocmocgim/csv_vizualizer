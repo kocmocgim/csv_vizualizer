{
 "cells": [
  {
   "cell_type": "code",
   "execution_count": 2,
   "metadata": {},
   "outputs": [
    {
     "data": {
      "text/plain": [
       "'\\nfrom pyqtgraph.Qt import QtCore, QtGui; from pyqtgraph.ptime import time\\nimport socket, re, random, numpy as np, pyqtgraph as pg\\n\\nUDP_PORT, UDP_IP = 8080, \"192.168.43.14\"\\nw_size = 100\\n\\nsock = socket.socket( socket.AF_INET, socket.SOCK_DGRAM )\\nsock.bind( (UDP_IP,UDP_PORT) )\\n\\napp = QtGui.QApplication([])\\nwin = pg.GraphicsWindow()\\nwin.setWindowTitle(\\'BMI160\\')\\npg.setConfigOptions(antialias=True)\\n\\nall_data = sock.recvfrom( 2500 )[0]\\nparts = re.split(\\',\\', all_data)\\nn_ofdata = len(parts)\\n\\n#n_ofdata = 3\\naxis_nms = [\"Gx\", \"Gy\", \"Gz\", \"Ax\", \"Ay\", \"Az\"]\\n\\nif (n_ofdata != len(axis_nms)):\\n    axis_nms = []\\n    print \"\\xd0\\x92\\xd1\\x81\\xd0\\xb5\\xd0\\xb3\\xd0\\xbe \\xd0\\xbd\\xd0\\xb0\\xd0\\xb9\\xd0\\xb4\\xd0\\xb5\\xd0\\xbd\\xd0\\xbe %d \\xd0\\xbf\\xd0\\xbe\\xd1\\x82\\xd0\\xbe\\xd0\\xba\\xd0\\xbe\\xd0\\xb2 \\xd0\\xb4\\xd0\\xb0\\xd0\\xbd\\xd0\\xbd\\xd1\\x8b\\xd1\\x85\" %n_ofdata\\n    for i in range(n_ofdata):\\n        input_text = \\'Enter file name for %d axis: \\' %i\\n        answer = raw_input(input_text)\\n        axis_nms.append(answer)\\n\\np = [None] * n_ofdata\\ndata = np.zeros([n_ofdata, w_size])\\ncurves = [None] * n_ofdata\\nptr = np.zeros(n_ofdata)\\n\\nfor i in range(n_ofdata):\\n    p[i] = win.addPlot(title = axis_nms[i])\\n    curves[i] = p[i].plot(data[i], pen = (random.randint(0, 255)*10*i%255, random.randint(150, 255), random.randint(50, 255)))\\n    \\n    if ((i + 1) % 3 == 0) and (i > 0):\\n        win.nextRow()\\n    else:\\n        pass\\n\\ndef updater(n_axis):\\n    global data, curves, ptr\\n    all_data = sock.recvfrom( 214748364 )[0]\\n    parts = re.split(\\',\\', all_data)\\n    data[n_axis][:-1] = data[n_axis][1:]\\n    axis_data = int(parts[n_axis])\\n    if (n_axis < 3):\\n        axis_data = axis_data * 500.0 / 32768.0\\n    elif (n_axis < 6):\\n        axis_data = axis_data * 8.0 / 32768.0\\n    else:\\n        pass\\n    data[n_axis][-1] = axis_data\\n    curves[n_axis].setData(data[n_axis])\\n    ptr[n_axis] += 1\\n    \\ndef full_updater():    \\n    for i in range(n_ofdata):\\n        updater(i)\\n\\ntimer = pg.QtCore.QTimer()\\ntimer.timeout.connect(full_updater)\\ntimer.start(0)\\n\\nif __name__ == \\'__main__\\':\\n    import sys\\n    if (sys.flags.interactive != 1) or not hasattr(QtCore, \\'PYQT_VERSION\\'):\\n        QtGui.QApplication.instance().exec_()\\n\\n'"
      ]
     },
     "execution_count": 2,
     "metadata": {},
     "output_type": "execute_result"
    }
   ],
   "source": [
    "from pyqtgraph.Qt import QtCore, QtGui; from pyqtgraph.ptime import time\n",
    "import socket, re, random, numpy as np, pyqtgraph as pg\n",
    "\n",
    "UDP_PORT, UDP_IP = 8080, \"192.168.43.14\"\n",
    "w_size = 100\n",
    "\n",
    "sock = socket.socket( socket.AF_INET, socket.SOCK_DGRAM )\n",
    "sock.bind( (UDP_IP,UDP_PORT) )\n",
    "\n",
    "app = QtGui.QApplication([])\n",
    "win = pg.GraphicsWindow()\n",
    "win.setWindowTitle('BMI160')\n",
    "pg.setConfigOptions(antialias=True)\n",
    "\n",
    "all_data = sock.recvfrom( 2500 )[0]\n",
    "parts = re.split(',', all_data)\n",
    "n_ofdata = len(parts)\n",
    "\n",
    "#n_ofdata = 3\n",
    "axis_nms = [\"Gx\", \"Gy\", \"Gz\", \"Ax\", \"Ay\", \"Az\"]\n",
    "\n",
    "if (n_ofdata != len(axis_nms)):\n",
    "    axis_nms = []\n",
    "    print \"Всего найдено %d потоков данных\" %n_ofdata\n",
    "    for i in range(n_ofdata):\n",
    "        input_text = 'Enter file name for %d axis: ' %i\n",
    "        answer = raw_input(input_text)\n",
    "        axis_nms.append(answer)\n",
    "\n",
    "p = [None] * n_ofdata\n",
    "data = np.zeros([n_ofdata, w_size])\n",
    "curves = [None] * n_ofdata\n",
    "ptr = np.zeros(n_ofdata)\n",
    "\n",
    "for i in range(n_ofdata):\n",
    "    p[i] = win.addPlot(title = axis_nms[i])\n",
    "    curves[i] = p[i].plot(data[i], pen = (random.randint(0, 255)*10*i%255, random.randint(150, 255), random.randint(50, 255)))\n",
    "    \n",
    "    if ((i + 1) % 3 == 0) and (i > 0):\n",
    "        win.nextRow()\n",
    "    else:\n",
    "        pass\n",
    "\n",
    "def updater(n_axis):\n",
    "    global data, curves, ptr\n",
    "    all_data = sock.recvfrom( 214748364 )[0]\n",
    "    parts = re.split(',', all_data)\n",
    "    data[n_axis][:-1] = data[n_axis][1:]\n",
    "    axis_data = int(parts[n_axis])\n",
    "    if (n_axis < 3):\n",
    "        axis_data = axis_data * 500.0 / 32768.0\n",
    "    elif (n_axis < 6):\n",
    "        axis_data = axis_data * 8.0 / 32768.0\n",
    "    else:\n",
    "        pass\n",
    "    data[n_axis][-1] = axis_data\n",
    "    curves[n_axis].setData(data[n_axis])\n",
    "    ptr[n_axis] += 1\n",
    "    \n",
    "def full_updater():    \n",
    "    for i in range(n_ofdata):\n",
    "        updater(i)\n",
    "\n",
    "timer = pg.QtCore.QTimer()\n",
    "timer.timeout.connect(full_updater)\n",
    "timer.start(0)\n",
    "\n",
    "if __name__ == '__main__':\n",
    "    import sys\n",
    "    if (sys.flags.interactive != 1) or not hasattr(QtCore, 'PYQT_VERSION'):\n",
    "        QtGui.QApplication.instance().exec_()"
   ]
  }
 ],
 "metadata": {
  "kernelspec": {
   "display_name": "Python 2",
   "language": "python",
   "name": "python2"
  },
  "language_info": {
   "codemirror_mode": {
    "name": "ipython",
    "version": 2
   },
   "file_extension": ".py",
   "mimetype": "text/x-python",
   "name": "python",
   "nbconvert_exporter": "python",
   "pygments_lexer": "ipython2",
   "version": "2.7.14"
  }
 },
 "nbformat": 4,
 "nbformat_minor": 2
}
